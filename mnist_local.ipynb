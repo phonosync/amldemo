{
 "cells": [
  {
   "cell_type": "code",
   "execution_count": 17,
   "metadata": {},
   "outputs": [],
   "source": [
    "import os\n",
    "import urllib.request\n",
    "from dotenv import load_dotenv\n",
    "import numpy as np\n",
    "import matplotlib.pyplot as plt\n",
    "import scikitplot as skplt\n",
    "%matplotlib inline\n",
    "\n",
    "from amlutils import blobs_util as b_util\n",
    "import mnist_util as m_util\n",
    "import mnist_train as m_train"
   ]
  },
  {
   "cell_type": "markdown",
   "metadata": {},
   "source": [
    "The blobs_util module relies on the access credentials for the remote blob storage to be in the following environment variables. We use dotenv to conveniently load them. By default you would specify them in a file .env in the project root. However, if you want to make sure that the file is also copied into the remote image, you need to rename it to something like\n",
    "env.txt\n",
    "\n",
    "Assign the following variables in the file:\n",
    "\n",
    "    ACCOUNT_NAME=<STORAGE ACCOUNT NAME>\n",
    "    \n",
    "    ACCOUNT_ACCESS_KEY=<STORAGE ACCOUNT ACCESS KEY>\n",
    "\n",
    "    IS_EMULATED=False"
   ]
  },
  {
   "cell_type": "code",
   "execution_count": 2,
   "metadata": {},
   "outputs": [
    {
     "data": {
      "text/plain": [
       "True"
      ]
     },
     "execution_count": 2,
     "metadata": {},
     "output_type": "execute_result"
    }
   ],
   "source": [
    "load_dotenv('env.txt')"
   ]
  },
  {
   "cell_type": "markdown",
   "metadata": {},
   "source": [
    "# Image Classification Model based on MNIST dataset\n",
    "## Local Execution\n",
    "\n",
    "Based on Azure official tutorial https://docs.microsoft.com/en-us/azure/machine-learning/service/tutorial-train-models-with-aml. See also: \n",
    "* https://github.com/Azure/MachineLearningNotebooks/tree/master/tutorials\n",
    "* https://github.com/piizei/mlops.git\n",
    "\n",
    "In this notebook, we start from the data in a remote blob storage, download it and explore it locally. The following notebook then demonstrates how to push any computationally heavier task to a remote compute on the Azure Machine Learning Workspace (AMLWS).\n",
    "\n",
    "### Download the Data\n",
    "Any AMLWS also comes with a default storage, but I usually want to keep the data separate so that I do not have to worry about it once I am done with the calculations and want to destroy the workspace. Therefore the first step is to download the data from the corresponding Azure Storage account. The credentials to the storage account have to be loaded into the environment variables as shown above. The container is called 'mnist' in my case:"
   ]
  },
  {
   "cell_type": "code",
   "execution_count": 6,
   "metadata": {},
   "outputs": [],
   "source": [
    "data_folder = os.path.join(os.getcwd(), 'dataMNIST')"
   ]
  },
  {
   "cell_type": "code",
   "execution_count": 8,
   "metadata": {},
   "outputs": [],
   "source": [
    "container_name = 'mnist'\n",
    "os.makedirs(data_folder, exist_ok=True)\n",
    "\n",
    "for fn in b_util.list_blobs_in_container(container_name):\n",
    "    b_util.get_file_blob_to_path(container_name, fn, os.path.join(data_folder, fn))"
   ]
  },
  {
   "cell_type": "markdown",
   "metadata": {},
   "source": [
    "In case you want to download it directly:"
   ]
  },
  {
   "cell_type": "code",
   "execution_count": 2,
   "metadata": {},
   "outputs": [
    {
     "data": {
      "text/plain": [
       "('C:\\\\Users\\\\md\\\\Projects\\\\amldemo\\\\data\\\\test-labels.gz',\n",
       " <http.client.HTTPMessage at 0x222c3353b08>)"
      ]
     },
     "execution_count": 2,
     "metadata": {},
     "output_type": "execute_result"
    }
   ],
   "source": [
    "os.makedirs(data_folder, exist_ok=True)\n",
    "\n",
    "urllib.request.urlretrieve('http://yann.lecun.com/exdb/mnist/train-images-idx3-ubyte.gz',\n",
    "                           filename=os.path.join(data_folder, 'train-images.gz'))\n",
    "urllib.request.urlretrieve('http://yann.lecun.com/exdb/mnist/train-labels-idx1-ubyte.gz',\n",
    "                           filename=os.path.join(data_folder, 'train-labels.gz'))\n",
    "urllib.request.urlretrieve('http://yann.lecun.com/exdb/mnist/t10k-images-idx3-ubyte.gz',\n",
    "                           filename=os.path.join(data_folder, 'test-images.gz'))\n",
    "urllib.request.urlretrieve('http://yann.lecun.com/exdb/mnist/t10k-labels-idx1-ubyte.gz',\n",
    "                           filename=os.path.join(data_folder, 'test-labels.gz'))"
   ]
  },
  {
   "cell_type": "markdown",
   "metadata": {},
   "source": [
    "### Inspect the Data"
   ]
  },
  {
   "cell_type": "code",
   "execution_count": 11,
   "metadata": {},
   "outputs": [
    {
     "data": {
      "image/png": "[encoded data removed]",
      "text/plain": [
       "<Figure size 1152x432 with 30 Axes>"
      ]
     },
     "metadata": {
      "needs_background": "light"
     },
     "output_type": "display_data"
    }
   ],
   "source": [
    "# note we also shrink the intensity values (X) from 0-255 to 0-1. This helps the model converge faster.\n",
    "X_train = m_util.load_data(os.path.join(\n",
    "    data_folder, 'train-images.gz'), False) / 255.0\n",
    "X_test = load_data(os.path.join(data_folder, 'test-images.gz'), False) / 255.0\n",
    "y_train = load_data(os.path.join(\n",
    "    data_folder, 'train-labels.gz'), True).reshape(-1)\n",
    "y_test = load_data(os.path.join(\n",
    "    data_folder, 'test-labels.gz'), True).reshape(-1)\n",
    "\n",
    "# now let's show some randomly chosen images from the traininng set.\n",
    "count = 0\n",
    "sample_size = 30\n",
    "plt.figure(figsize=(16, 6))\n",
    "for i in np.random.permutation(X_train.shape[0])[:sample_size]:\n",
    "    count = count + 1\n",
    "    plt.subplot(1, sample_size, count)\n",
    "    plt.axhline('')\n",
    "    plt.axvline('')\n",
    "    plt.text(x=10, y=-10, s=y_train[i], fontsize=18)\n",
    "    plt.imshow(X_train[i].reshape(28, 28), cmap=plt.cm.Greys)\n",
    "plt.show()"
   ]
  },
  {
   "cell_type": "markdown",
   "metadata": {},
   "source": [
    "### Train the Model\n",
    "We put the code to train the model into a separate script. The point here is that we can use the same code for training the model locally (perhaps with a smaller training set, limited number of iterations etc.) as on the remote compute."
   ]
  },
  {
   "cell_type": "code",
   "execution_count": 13,
   "metadata": {},
   "outputs": [
    {
     "name": "stdout",
     "output_type": "stream",
     "text": [
      "(60000, 784)\n",
      "(60000,)\n",
      "(10000, 784)\n",
      "(10000,)\n",
      "Train a logistic regression model with regularization rate of 0.01\n",
      "Predict the test set\n",
      "Accuracy is 0.9257\n",
      "Attempted to log scalar metric regularization rate:\n",
      "0.01\n",
      "Attempted to log scalar metric accuracy:\n",
      "0.9257\n"
     ]
    },
    {
     "name": "stderr",
     "output_type": "stream",
     "text": [
      "c:\\users\\md\\projects\\amldemo\\venv\\lib\\site-packages\\sklearn\\linear_model\\logistic.py:947: ConvergenceWarning: lbfgs failed to converge. Increase the number of iterations.\n",
      "  \"of iterations.\", ConvergenceWarning)\n"
     ]
    }
   ],
   "source": [
    "clf = m_train.train(data_folder,0.01,'../outputs/sklearn_mnist_model.pkl')"
   ]
  },
  {
   "cell_type": "markdown",
   "metadata": {},
   "source": [
    "### Plot Results"
   ]
  },
  {
   "cell_type": "code",
   "execution_count": 18,
   "metadata": {},
   "outputs": [
    {
     "data": {
      "image/png": "[encoded data removed]",
      "text/plain": [
       "<Figure size 432x288 with 2 Axes>"
      ]
     },
     "metadata": {
      "needs_background": "light"
     },
     "output_type": "display_data"
    }
   ],
   "source": [
    "skplt.metrics.plot_confusion_matrix(y_test, clf.predict(X_test), normalize=True)\n",
    "plt.show()"
   ]
  },
  {
   "cell_type": "code",
   "execution_count": null,
   "metadata": {},
   "outputs": [],
   "source": []
  }
 ],
 "metadata": {
  "kernelspec": {
   "display_name": "Python 3",
   "language": "python",
   "name": "python3"
  },
  "language_info": {
   "codemirror_mode": {
    "name": "ipython",
    "version": 3
   },
   "file_extension": ".py",
   "mimetype": "text/x-python",
   "name": "python",
   "nbconvert_exporter": "python",
   "pygments_lexer": "ipython3",
   "version": "3.7.4"
  }
 },
 "nbformat": 4,
 "nbformat_minor": 2
}
