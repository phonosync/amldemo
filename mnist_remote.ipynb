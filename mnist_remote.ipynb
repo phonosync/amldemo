{
 "cells": [
  {
   "cell_type": "code",
   "execution_count": 24,
   "metadata": {},
   "outputs": [
    {
     "name": "stdout",
     "output_type": "stream",
     "text": [
      "The autoreload extension is already loaded. To reload it, use:\n",
      "  %reload_ext autoreload\n"
     ]
    },
    {
     "data": {
      "text/plain": [
       "True"
      ]
     },
     "execution_count": 24,
     "metadata": {},
     "output_type": "execute_result"
    }
   ],
   "source": [
    "%load_ext autoreload\n",
    "%autoreload 1\n",
    "%matplotlib inline\n",
    "# %aimport utils.remote_execute_util\n",
    "import os\n",
    "import numpy as np\n",
    "import sklearn\n",
    "import matplotlib.pyplot as plt\n",
    "import scikitplot as skplt\n",
    "import joblib\n",
    "from dotenv import load_dotenv\n",
    "from azureml.core import Experiment\n",
    "from azureml.train.estimator import Estimator\n",
    "from azureml.widgets import RunDetails\n",
    "from amlutils import aml_util as a_util\n",
    "from amlutils import blobs_util as b_util\n",
    "import mnist_util as m_util\n",
    "load_dotenv()"
   ]
  },
  {
   "cell_type": "markdown",
   "metadata": {},
   "source": [
    "# Image Classification Model based on MNIST dataset\n",
    "## Remote Training in the Azure ML Workspace\n",
    "Based on Azure official tutorial https://docs.microsoft.com/en-us/azure/machine-learning/service/tutorial-train-models-with-aml. See also:\n",
    "\n",
    "https://github.com/Azure/MachineLearningNotebooks/tree/master/tutorials\n",
    "https://github.com/piizei/mlops.git\n",
    "\n",
    "We assume the training data is available in a blob storage container with name 'mnist'\n",
    "\n",
    "### Prepare Workspace\n",
    "Make sure you have downloaded config.json from your azure ml workspace into the project root. Additionally, you might need to put\n",
    "\n",
    "    TENANT=<YOUR TENANT ID>\n",
    "\n",
    "in .env in the project root, along with the access credentials to the blob storage account with the training data as described in the notebook for local training.\n",
    "    \n",
    "Get a reference to the workspace instance:"
   ]
  },
  {
   "cell_type": "code",
   "execution_count": 4,
   "metadata": {},
   "outputs": [],
   "source": [
    "ws = a_util.get_ws()"
   ]
  },
  {
   "cell_type": "markdown",
   "metadata": {},
   "source": [
    "We need to make sure the blob storage container with the training data is registered as a datastore in the workspace:"
   ]
  },
  {
   "cell_type": "code",
   "execution_count": 8,
   "metadata": {},
   "outputs": [
    {
     "name": "stdout",
     "output_type": "stream",
     "text": [
      "workspaceblobstore\n",
      "workspacefilestore\n",
      "dsmnist\n"
     ]
    }
   ],
   "source": [
    "for name, ds in ws.datastores.items():\n",
    "    print(name)"
   ]
  },
  {
   "cell_type": "code",
   "execution_count": 9,
   "metadata": {},
   "outputs": [],
   "source": [
    "try:\n",
    "    ds = b_util.get_ds(ws, 'dsmnist')\n",
    "except Exception:\n",
    "    ds = b_util.register_blob_ws(ws, 'dsmnist', 'mnist')"
   ]
  },
  {
   "cell_type": "markdown",
   "metadata": {},
   "source": [
    "Start up a compute cluster in the workspace. If you select minimum number of nodes = 0 it will automatically scale down to 0 after each job and not incurr any cost. Note however, provisioning nodes takes a couple of minutes each time."
   ]
  },
  {
   "cell_type": "code",
   "execution_count": null,
   "metadata": {},
   "outputs": [],
   "source": [
    "# instanciate the remote compute\n",
    "compute_target = a_util.prepare_remote_compute(ws, compute_name='cpucluster', compute_min_nodes=0, compute_max_nodes=1, compute_vm_size='STANDARD_D2_V2')"
   ]
  },
  {
   "cell_type": "markdown",
   "metadata": {},
   "source": [
    "### Setup the experiment\n",
    "The configuration of the experiment:"
   ]
  },
  {
   "cell_type": "code",
   "execution_count": 11,
   "metadata": {},
   "outputs": [],
   "source": [
    "#Define the folder that is sent to remote computing\n",
    "script_folder  = os.getcwd()\n",
    "\n",
    "#An estimator object is used to submit the run.\n",
    "script_params = {\n",
    "    '--data-folder': ds.as_mount(), # .path('mnist')\n",
    "    '--regularization': 0.01\n",
    "}\n",
    "\n",
    "estimator = Estimator(source_directory=script_folder,\n",
    "                      script_params=script_params,\n",
    "                      compute_target=compute_target,\n",
    "                      entry_script='mnist_train.py',\n",
    "                      pip_requirements_file='requirements_remote.txt' # we don't need all the packages from local run\n",
    "                     )"
   ]
  },
  {
   "cell_type": "markdown",
   "metadata": {},
   "source": [
    "### Run the experiment\n",
    "and watch the progress of the run with a Jupyter widget:"
   ]
  },
  {
   "cell_type": "code",
   "execution_count": null,
   "metadata": {},
   "outputs": [],
   "source": [
    "experiment = Experiment(workspace=ws, name='expmnist')\n",
    "run = experiment.submit(config=estimator)\n",
    "run"
   ]
  },
  {
   "cell_type": "code",
   "execution_count": null,
   "metadata": {},
   "outputs": [],
   "source": [
    "# this does not work in Jupyter Lab\n",
    "RunDetails(run).show()"
   ]
  },
  {
   "cell_type": "code",
   "execution_count": null,
   "metadata": {},
   "outputs": [],
   "source": [
    "run.wait_for_completion(show_output=False)  # specify True for a verbose log"
   ]
  },
  {
   "cell_type": "markdown",
   "metadata": {},
   "source": [
    "### Display run results"
   ]
  },
  {
   "cell_type": "code",
   "execution_count": 25,
   "metadata": {},
   "outputs": [
    {
     "name": "stdout",
     "output_type": "stream",
     "text": [
      "{'regularization rate': 0.01, 'accuracy': 0.9257}\n"
     ]
    }
   ],
   "source": [
    "print(run.get_metrics())"
   ]
  },
  {
   "cell_type": "markdown",
   "metadata": {},
   "source": [
    "### Register the model\n",
    "The last step in the training script wrote the file outputs/sklearn_mnist_model.pkl in a directory named outputs in the VM of the cluster where the job is run. outputs is a special directory in that all content in this directory is automatically uploaded to your workspace. This content appears in the run record in the experiment under your workspace. So the model file is now also available in your workspace.\n",
    "\n",
    "Register the model in the workspace, so that you or other collaborators can later query, examine, and deploy this model. You can also compare with other registered models so far and, for example, only register when the new one is more accurate etc. "
   ]
  },
  {
   "cell_type": "code",
   "execution_count": 18,
   "metadata": {},
   "outputs": [
    {
     "name": "stdout",
     "output_type": "stream",
     "text": [
      "sklearn_mnist\tsklearn_mnist:1\t1\n"
     ]
    }
   ],
   "source": [
    "# models = Model.list(workspace=ws, name=model_name)\n",
    "model = run.register_model(model_name='sklearn_mnist',\n",
    "                           model_path='outputs/sklearn_mnist_model.pkl')\n",
    "print(model.name, model.id, model.version, sep='\\t')"
   ]
  },
  {
   "cell_type": "markdown",
   "metadata": {},
   "source": [
    "### Delete compute ressources"
   ]
  },
  {
   "cell_type": "code",
   "execution_count": 52,
   "metadata": {},
   "outputs": [],
   "source": [
    "# optionally, delete the Azure Machine Learning Compute cluster\n",
    "compute_target.delete()"
   ]
  },
  {
   "cell_type": "markdown",
   "metadata": {},
   "source": [
    "## Download the trained model and predict locally"
   ]
  },
  {
   "cell_type": "code",
   "execution_count": null,
   "metadata": {},
   "outputs": [],
   "source": [
    "# model = Model(ws, 'sklearn_mnist')\n",
    "output_folder = os.getenv('OUTPUT_REMOTE')\n",
    "os.makedirs(output_folder, exist_ok=True)\n",
    "model.download(target_dir=output_folder, exist_ok=True)"
   ]
  },
  {
   "cell_type": "code",
   "execution_count": null,
   "metadata": {},
   "outputs": [],
   "source": [
    "clf = joblib.load(os.path.join(output_folder, 'sklearn_mnist_model.pkl'))"
   ]
  },
  {
   "cell_type": "code",
   "execution_count": 21,
   "metadata": {},
   "outputs": [],
   "source": [
    "data_folder = os.getenv('DATA_LOCAL')\n",
    "X_test = m_util.load_data(os.path.join(data_folder, 'test-images.gz'), False) / 255.0\n",
    "y_test = m_util.load_data(os.path.join(data_folder, 'test-labels.gz'), True).reshape(-1)\n",
    "y_hat = clf.predict(X_test)"
   ]
  },
  {
   "cell_type": "code",
   "execution_count": 25,
   "metadata": {},
   "outputs": [
    {
     "data": {
      "image/png": "[encoded data removed]",
      "text/plain": [
       "<Figure size 432x288 with 2 Axes>"
      ]
     },
     "metadata": {
      "needs_background": "light"
     },
     "output_type": "display_data"
    }
   ],
   "source": [
    "skplt.metrics.plot_confusion_matrix(y_test, y_hat, normalize=True)\n",
    "plt.show()"
   ]
  },
  {
   "cell_type": "code",
   "execution_count": 26,
   "metadata": {},
   "outputs": [
    {
     "name": "stdout",
     "output_type": "stream",
     "text": [
      "Overall accuracy: 0.9257\n"
     ]
    }
   ],
   "source": [
    "print('Overall accuracy:', np.average(y_hat == y_test))"
   ]
  },
  {
   "cell_type": "code",
   "execution_count": null,
   "metadata": {},
   "outputs": [],
   "source": []
  }
 ],
 "metadata": {
  "kernelspec": {
   "display_name": "Python 3",
   "language": "python",
   "name": "python3"
  },
  "language_info": {
   "codemirror_mode": {
    "name": "ipython",
    "version": 3
   },
   "file_extension": ".py",
   "mimetype": "text/x-python",
   "name": "python",
   "nbconvert_exporter": "python",
   "pygments_lexer": "ipython3",
   "version": "3.7.5"
  }
 },
 "nbformat": 4,
 "nbformat_minor": 2
}
