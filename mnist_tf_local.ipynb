{
 "cells": [
  {
   "cell_type": "code",
   "execution_count": 6,
   "metadata": {},
   "outputs": [],
   "source": [
    "import os\n",
    "import urllib.request\n",
    "from dotenv import load_dotenv\n",
    "import numpy as np\n",
    "import tensorflow as tf\n",
    "import keras\n",
    "import matplotlib.pyplot as plt\n",
    "import scikitplot as skplt\n",
    "%matplotlib inline\n",
    "\n",
    "from amlutils import blobs_util as b_util\n",
    "import mnist_util as m_util\n",
    "import mnist_tf_train as m_train"
   ]
  },
  {
   "cell_type": "code",
   "execution_count": 8,
   "metadata": {},
   "outputs": [
    {
     "name": "stdout",
     "output_type": "stream",
     "text": [
      "Keras version: 2.2.5\n",
      "Tensorflow version: 1.13.1\n",
      "no CUDA GPU available\n",
      "TF was not built with GPU support\n"
     ]
    }
   ],
   "source": [
    "print(\"Keras version:\", keras.__version__)\n",
    "print(\"Tensorflow version:\", tf.__version__)\n",
    "\n",
    "if tf.test.is_gpu_available(cuda_only=True, min_cuda_compute_capability=None):\n",
    "    print('CUDA GPU available')\n",
    "else:\n",
    "    print('no CUDA GPU available')\n",
    "if tf.test.is_built_with_cuda():\n",
    "    print('TF was built with GPU support')\n",
    "else:\n",
    "    print('TF was not built with GPU support')"
   ]
  },
  {
   "cell_type": "code",
   "execution_count": 2,
   "metadata": {},
   "outputs": [
    {
     "data": {
      "text/plain": [
       "True"
      ]
     },
     "execution_count": 2,
     "metadata": {},
     "output_type": "execute_result"
    }
   ],
   "source": [
    "load_dotenv()"
   ]
  },
  {
   "cell_type": "code",
   "execution_count": 3,
   "metadata": {},
   "outputs": [
    {
     "name": "stdout",
     "output_type": "stream",
     "text": [
      "C:\\\\Users\\\\S0K8FJ\\\\Projects\\\\mnist\n"
     ]
    }
   ],
   "source": [
    "data_folder = os.getenv('DATA_LOCAL')\n",
    "print(data_folder)"
   ]
  },
  {
   "cell_type": "code",
   "execution_count": 4,
   "metadata": {},
   "outputs": [],
   "source": [
    "output_folder = os.getenv('OUTPUT_LOCAL')"
   ]
  },
  {
   "cell_type": "code",
   "execution_count": 5,
   "metadata": {},
   "outputs": [
    {
     "name": "stderr",
     "output_type": "stream",
     "text": [
      "WARNING - From c:\\users\\s0k8fj\\projects\\amldemo\\venv\\lib\\site-packages\\tensorflow\\python\\framework\\op_def_library.py:263: colocate_with (from tensorflow.python.framework.ops) is deprecated and will be removed in a future version.\n",
      "Instructions for updating:\n",
      "Colocations handled automatically by placer.\n",
      "WARNING - From c:\\users\\s0k8fj\\projects\\amldemo\\venv\\lib\\site-packages\\tensorflow\\python\\ops\\math_ops.py:3066: to_int32 (from tensorflow.python.ops.math_ops) is deprecated and will be removed in a future version.\n",
      "Instructions for updating:\n",
      "Use tf.cast instead.\n"
     ]
    },
    {
     "name": "stdout",
     "output_type": "stream",
     "text": [
      "(60000, 784)\n",
      "(60000,)\n",
      "(10000, 784)\n",
      "(10000,)\n",
      "(60000, 784)\n",
      "(60000, 10)\n",
      "(10000, 784)\n",
      "(10000, 10)\n",
      "Model: \"sequential_1\"\n",
      "_________________________________________________________________\n",
      "Layer (type)                 Output Shape              Param #   \n",
      "=================================================================\n",
      "dense_1 (Dense)              (None, 10)                7850      \n",
      "_________________________________________________________________\n",
      "dense_2 (Dense)              (None, 10)                110       \n",
      "_________________________________________________________________\n",
      "dense_3 (Dense)              (None, 10)                110       \n",
      "=================================================================\n",
      "Total params: 8,070\n",
      "Trainable params: 8,070\n",
      "Non-trainable params: 0\n",
      "_________________________________________________________________\n",
      "Train on 60000 samples, validate on 10000 samples\n",
      "Epoch 1/20\n",
      " - 6s - loss: 0.5440 - acc: 0.8330 - val_loss: 0.3396 - val_acc: 0.9015\n",
      "Attempted to log scalar metric Loss:\n",
      "0.5440030148962979\n",
      "Attempted to log scalar metric Accuracy:\n",
      "0.8330333284847439\n",
      "Epoch 2/20\n",
      " - 6s - loss: 0.3010 - acc: 0.9160 - val_loss: 0.2852 - val_acc: 0.9224\n",
      "Attempted to log scalar metric Loss:\n",
      "0.30101319767232054\n",
      "Attempted to log scalar metric Accuracy:\n",
      "0.9159666591882706\n",
      "Epoch 3/20\n",
      " - 6s - loss: 0.2789 - acc: 0.9256 - val_loss: 0.2891 - val_acc: 0.9237\n",
      "Attempted to log scalar metric Loss:\n",
      "0.2788985289837777\n",
      "Attempted to log scalar metric Accuracy:\n",
      "0.9255833258430163\n",
      "Epoch 4/20\n",
      " - 6s - loss: 0.2698 - acc: 0.9280 - val_loss: 0.2609 - val_acc: 0.9321\n",
      "Attempted to log scalar metric Loss:\n",
      "0.2697745471338567\n",
      "Attempted to log scalar metric Accuracy:\n",
      "0.9280166590213775\n",
      "Epoch 5/20\n",
      " - 6s - loss: 0.2647 - acc: 0.9303 - val_loss: 0.2620 - val_acc: 0.9319\n",
      "Attempted to log scalar metric Loss:\n",
      "0.264663243340566\n",
      "Attempted to log scalar metric Accuracy:\n",
      "0.9302833257416884\n",
      "Epoch 6/20\n",
      " - 6s - loss: 0.2602 - acc: 0.9313 - val_loss: 0.2703 - val_acc: 0.9298\n",
      "Attempted to log scalar metric Loss:\n",
      "0.2601942822447648\n",
      "Attempted to log scalar metric Accuracy:\n",
      "0.9312999925216039\n",
      "Epoch 7/20\n",
      " - 6s - loss: 0.2587 - acc: 0.9324 - val_loss: 0.2721 - val_acc: 0.9324\n",
      "Attempted to log scalar metric Loss:\n",
      "0.25868292201872584\n",
      "Attempted to log scalar metric Accuracy:\n",
      "0.9324166590273381\n",
      "Epoch 8/20\n",
      " - 6s - loss: 0.2567 - acc: 0.9337 - val_loss: 0.2669 - val_acc: 0.9317\n",
      "Attempted to log scalar metric Loss:\n",
      "0.2567157800855251\n",
      "Attempted to log scalar metric Accuracy:\n",
      "0.9337499925692876\n",
      "Epoch 9/20\n",
      " - 6s - loss: 0.2552 - acc: 0.9333 - val_loss: 0.2704 - val_acc: 0.9333\n",
      "Attempted to log scalar metric Loss:\n",
      "0.25523241899661175\n",
      "Attempted to log scalar metric Accuracy:\n",
      "0.933333325902621\n",
      "Epoch 10/20\n",
      " - 6s - loss: 0.2544 - acc: 0.9342 - val_loss: 0.2709 - val_acc: 0.9312\n",
      "Attempted to log scalar metric Loss:\n",
      "0.2543612042136289\n",
      "Attempted to log scalar metric Accuracy:\n",
      "0.9342333262264728\n",
      "Epoch 11/20\n",
      " - 6s - loss: 0.2490 - acc: 0.9354 - val_loss: 0.2837 - val_acc: 0.9302\n",
      "Attempted to log scalar metric Loss:\n",
      "0.24895817301191953\n",
      "Attempted to log scalar metric Accuracy:\n",
      "0.935366659194231\n",
      "Epoch 12/20\n",
      " - 6s - loss: 0.2514 - acc: 0.9353 - val_loss: 0.2780 - val_acc: 0.9316\n",
      "Attempted to log scalar metric Loss:\n",
      "0.2514285055051441\n",
      "Attempted to log scalar metric Accuracy:\n",
      "0.9352999923825264\n",
      "Epoch 13/20\n",
      " - 6s - loss: 0.2519 - acc: 0.9363 - val_loss: 0.2758 - val_acc: 0.9336\n",
      "Attempted to log scalar metric Loss:\n",
      "0.25191739318698575\n",
      "Attempted to log scalar metric Accuracy:\n",
      "0.9362833258708319\n",
      "Epoch 14/20\n",
      " - 6s - loss: 0.2484 - acc: 0.9370 - val_loss: 0.2888 - val_acc: 0.9255\n",
      "Attempted to log scalar metric Loss:\n",
      "0.24841752896761196\n",
      "Attempted to log scalar metric Accuracy:\n",
      "0.9369666591783364\n",
      "Epoch 15/20\n",
      " - 6s - loss: 0.2501 - acc: 0.9370 - val_loss: 0.2832 - val_acc: 0.9313\n",
      "Attempted to log scalar metric Loss:\n",
      "0.25008303289656153\n",
      "Attempted to log scalar metric Accuracy:\n",
      "0.9370333258608977\n",
      "Epoch 16/20\n",
      " - 6s - loss: 0.2510 - acc: 0.9375 - val_loss: 0.2737 - val_acc: 0.9345\n",
      "Attempted to log scalar metric Loss:\n",
      "0.25102601235981636\n",
      "Attempted to log scalar metric Accuracy:\n",
      "0.9375333260496458\n",
      "Epoch 17/20\n",
      " - 6s - loss: 0.2502 - acc: 0.9376 - val_loss: 0.2725 - val_acc: 0.9357\n",
      "Attempted to log scalar metric Loss:\n",
      "0.2501578215282289\n",
      "Attempted to log scalar metric Accuracy:\n",
      "0.9376166594127814\n",
      "Epoch 18/20\n",
      " - 6s - loss: 0.2514 - acc: 0.9372 - val_loss: 0.2762 - val_acc: 0.9336\n",
      "Attempted to log scalar metric Loss:\n",
      "0.25135388927562236\n",
      "Attempted to log scalar metric Accuracy:\n",
      "0.9372499926586946\n",
      "Epoch 19/20\n",
      " - 6s - loss: 0.2529 - acc: 0.9368 - val_loss: 0.2849 - val_acc: 0.9303\n",
      "Attempted to log scalar metric Loss:\n",
      "0.25288484013541107\n",
      "Attempted to log scalar metric Accuracy:\n",
      "0.9367833260844152\n",
      "Epoch 20/20\n",
      " - 6s - loss: 0.2525 - acc: 0.9379 - val_loss: 0.2883 - val_acc: 0.9335\n",
      "Attempted to log scalar metric Loss:\n",
      "0.25246946318049013\n",
      "Attempted to log scalar metric Accuracy:\n",
      "0.9379166591068109\n",
      "Attempted to log scalar metric Final test loss:\n",
      "0.28830414249422026\n",
      "Test loss: 0.28830414249422026\n",
      "Attempted to log scalar metric Final test accuracy:\n",
      "0.9335\n",
      "Test accuracy: 0.9335\n",
      "Attempted to log image metric Accuracy vs Loss:\n",
      "<module 'matplotlib.pyplot' from 'c:\\\\users\\\\s0k8fj\\\\projects\\\\amldemo\\\\venv\\\\lib\\\\site-packages\\\\matplotlib\\\\pyplot.py'>\n",
      "model saved in folder C:\\\\Users\\\\S0K8FJ\\\\Projects\\\\amldemoOut\\model\n"
     ]
    },
    {
     "data": {
      "image/png": "[encoded data removed]",
      "text/plain": [
       "<Figure size 432x216 with 1 Axes>"
      ]
     },
     "metadata": {
      "needs_background": "light"
     },
     "output_type": "display_data"
    }
   ],
   "source": [
    "model = m_train.train(data_folder, output_folder, batch_size=10, n_hidden_1=10, n_hidden_2=10, learning_rate=0.001)"
   ]
  },
  {
   "cell_type": "code",
   "execution_count": 10,
   "metadata": {},
   "outputs": [],
   "source": [
    "X_test = m_util.load_data(os.path.join(data_folder, 'test-images.gz'), False) / 255.0\n",
    "y_test = m_util.load_data(os.path.join(data_folder, 'test-labels.gz'), True).reshape(-1)"
   ]
  },
  {
   "cell_type": "code",
   "execution_count": 11,
   "metadata": {},
   "outputs": [
    {
     "name": "stdout",
     "output_type": "stream",
     "text": [
      "labels:  \t [7 2 1 0 4 1 4 9 5 9 0 6 9 0 1 5 9 7 3 4 9 6 6 5 4 0 7 4 0 1]\n",
      "predictions:\t [7 2 1 0 4 1 4 9 8 9 0 6 9 0 1 5 9 7 3 4 9 6 6 5 4 0 7 4 0 1]\n"
     ]
    }
   ],
   "source": [
    "# evaluate loaded model on test data\n",
    "# loaded_model.compile(loss='binary_crossentropy', optimizer='rmsprop', metrics=['accuracy'])\n",
    "y_test_ohe = np.eye(10)[y_test.reshape(-1)]\n",
    "y_hat = np.argmax(model.predict(X_test), axis=1)\n",
    "\n",
    "# print the first 30 labels and predictions\n",
    "print('labels:  \\t', y_test[:30])\n",
    "print('predictions:\\t', y_hat[:30])"
   ]
  },
  {
   "cell_type": "code",
   "execution_count": 12,
   "metadata": {},
   "outputs": [
    {
     "name": "stdout",
     "output_type": "stream",
     "text": [
      "Accuracy on the test set: 0.9335\n"
     ]
    }
   ],
   "source": [
    "print(\"Accuracy on the test set:\", np.average(y_hat == y_test))"
   ]
  },
  {
   "cell_type": "code",
   "execution_count": null,
   "metadata": {},
   "outputs": [],
   "source": []
  },
  {
   "cell_type": "code",
   "execution_count": null,
   "metadata": {},
   "outputs": [],
   "source": []
  }
 ],
 "metadata": {
  "kernelspec": {
   "display_name": "Python 3",
   "language": "python",
   "name": "python3"
  },
  "language_info": {
   "codemirror_mode": {
    "name": "ipython",
    "version": 3
   },
   "file_extension": ".py",
   "mimetype": "text/x-python",
   "name": "python",
   "nbconvert_exporter": "python",
   "pygments_lexer": "ipython3",
   "version": "3.7.5"
  }
 },
 "nbformat": 4,
 "nbformat_minor": 2
}
